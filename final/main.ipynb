{
 "cells": [
  {
   "cell_type": "code",
   "execution_count": 11,
   "metadata": {},
   "outputs": [
    {
     "name": "stdout",
     "output_type": "stream",
     "text": [
      "Page fetched successfully. Analyzing content...\n",
      "20件の宿情報をデータベースに保存しました。\n"
     ]
    }
   ],
   "source": [
    "import requests\n",
    "from bs4 import BeautifulSoup\n",
    "import sqlite3\n",
    "import time\n",
    "\n",
    "# データベースの準備\n",
    "def setup_database():\n",
    "    conn = sqlite3.connect(\"jalan_hotels.db\")\n",
    "    cursor = conn.cursor()\n",
    "    cursor.execute('''\n",
    "        CREATE TABLE IF NOT EXISTS hotels (\n",
    "            id INTEGER PRIMARY KEY AUTOINCREMENT,\n",
    "            rank INTEGER,\n",
    "            name TEXT,\n",
    "            price TEXT,\n",
    "            rating REAL\n",
    "        )\n",
    "    ''')\n",
    "    conn.commit()\n",
    "    return conn, cursor\n",
    "\n",
    "# スクレイピング関数\n",
    "def scrape_jalan():\n",
    "    url = \"https://www.jalan.net/ranking/ryokan/index.html\"\n",
    "    headers = {\n",
    "        \"User-Agent\": \"Mozilla/5.0 (Windows NT 10.0; Win64; x64) AppleWebKit/537.36 (KHTML, like Gecko) Chrome/114.0.0.0 Safari/537.36\"\n",
    "    }\n",
    "    response = requests.get(url, headers=headers)\n",
    "    response.encoding = response.apparent_encoding\n",
    "\n",
    "    if response.status_code != 200:\n",
    "        print(\"Failed to fetch the webpage. Status code:\", response.status_code)\n",
    "        return []\n",
    "\n",
    "    soup = BeautifulSoup(response.text, \"html.parser\")\n",
    "    print(\"Page fetched successfully. Analyzing content...\")\n",
    "\n",
    "    hotels = []\n",
    "    # 宿情報を持つ要素を取得\n",
    "    hotel_list = soup.find_all(\"div\", class_=\"jlnpc-ranking__casette__textArea\")\n",
    "    if not hotel_list:\n",
    "        print(\"No hotel data found. Check the page structure.\")\n",
    "        print(response.text[:1000])  # デバッグ用にHTMLの一部を出力\n",
    "        return []\n",
    "\n",
    "    for hotel in hotel_list:\n",
    "        try:\n",
    "            # 順位\n",
    "            rank_tag = hotel.find(\"span\", class_=\"jlnpc-ranking__casette__rank\")\n",
    "            rank = int(rank_tag[\"class\"][-1][-2:]) if rank_tag else None  # `rank--01`から順位を取得\n",
    "\n",
    "            # 宿名\n",
    "            name_tag = hotel.find(\"h4\", class_=\"jlnpc-ranking__casette__title\").find(\"a\")\n",
    "            name = name_tag.text.strip() if name_tag else None\n",
    "\n",
    "            # 最安料金\n",
    "            price_tag = hotel.find(\"p\", class_=\"jlnpc-ranking__casette__headPrice\")\n",
    "            price = price_tag.strong.text.strip() if price_tag else None\n",
    "\n",
    "            # 評価\n",
    "            rating_tag = hotel.find(\"p\", class_=\"jlnpc-ranking__casette__score\")\n",
    "            rating = float(rating_tag.text.strip()) if rating_tag else None\n",
    "\n",
    "            if rank and name and price and rating:\n",
    "                hotels.append((rank, name, price, rating))\n",
    "        except (AttributeError, ValueError) as e:\n",
    "            print(f\"Error parsing hotel data: {e}\")\n",
    "            continue\n",
    "\n",
    "    return hotels\n",
    "\n",
    "# データをデータベースに挿入\n",
    "def insert_data(cursor, hotels):\n",
    "    cursor.executemany(\n",
    "        \"\"\"\n",
    "        INSERT INTO hotels (rank, name, price, rating)\n",
    "        VALUES (?, ?, ?, ?)\n",
    "        \"\"\",\n",
    "        hotels\n",
    "    )\n",
    "\n",
    "# メイン処理\n",
    "def main():\n",
    "    conn, cursor = setup_database()\n",
    "    hotels = scrape_jalan()\n",
    "\n",
    "    if hotels:\n",
    "        insert_data(cursor, hotels)\n",
    "        conn.commit()\n",
    "        print(f\"{len(hotels)}件の宿情報をデータベースに保存しました。\")\n",
    "    else:\n",
    "        print(\"宿情報の取得に失敗しました。\")\n",
    "\n",
    "    conn.close()\n",
    "\n",
    "if __name__ == \"__main__\":\n",
    "    main()\n"
   ]
  },
  {
   "cell_type": "code",
   "execution_count": 2,
   "metadata": {},
   "outputs": [
    {
     "name": "stdout",
     "output_type": "stream",
     "text": [
      "Correlation matrix:\n",
      "            rank     price    rating\n",
      "rank    1.000000  0.254221  0.143170\n",
      "price   0.254221  1.000000  0.361313\n",
      "rating  0.143170  0.361313  1.000000\n"
     ]
    },
    {
     "data": {
      "image/png": "[encoded data removed]",
      "text/plain": [
       "<Figure size 640x480 with 2 Axes>"
      ]
     },
     "metadata": {},
     "output_type": "display_data"
    }
   ],
   "source": [
    "import pandas as pd\n",
    "import sqlite3\n",
    "import seaborn as sns\n",
    "import matplotlib.pyplot as plt\n",
    "\n",
    "# SQLiteデータベースからデータを取得\n",
    "conn = sqlite3.connect(\"jalan_hotels.db\")\n",
    "query = \"SELECT rank, price, rating FROM hotels\"\n",
    "df = pd.read_sql(query, conn)\n",
    "conn.close()\n",
    "\n",
    "# 価格データのクリーニング\n",
    "df['price'] = df['price'].replace({r'円～': '', r'円': '', r',': ''}, regex=True).astype(float)\n",
    "\n",
    "# 相関関係の計算\n",
    "correlation_matrix = df.corr()\n",
    "\n",
    "# 相関行列を表示\n",
    "print(\"Correlation matrix:\")\n",
    "print(correlation_matrix)\n",
    "\n",
    "# 相関関係を視覚化する\n",
    "sns.heatmap(correlation_matrix, annot=True, cmap='coolwarm', fmt=\".2f\")\n",
    "plt.title(\"Correlation Matrix between Rank, Price, and Rating\")\n",
    "plt.show()\n"
   ]
  }
 ],
 "metadata": {
  "kernelspec": {
   "display_name": ".venv",
   "language": "python",
   "name": "python3"
  },
  "language_info": {
   "codemirror_mode": {
    "name": "ipython",
    "version": 3
   },
   "file_extension": ".py",
   "mimetype": "text/x-python",
   "name": "python",
   "nbconvert_exporter": "python",
   "pygments_lexer": "ipython3",
   "version": "3.10.1"
  }
 },
 "nbformat": 4,
 "nbformat_minor": 2
}
